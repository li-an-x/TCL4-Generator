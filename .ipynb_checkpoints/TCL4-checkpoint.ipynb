{
 "cells": [
  {
   "cell_type": "markdown",
   "id": "5e88335f",
   "metadata": {},
   "source": [
    "## TCL4 Generator"
   ]
  },
  {
   "cell_type": "code",
   "execution_count": null,
   "id": "8d7742e6",
   "metadata": {},
   "outputs": [],
   "source": []
  },
  {
   "cell_type": "code",
   "execution_count": 2,
   "id": "2775e0e3",
   "metadata": {},
   "outputs": [],
   "source": [
    "import numpy as np\n",
    "import torch\n",
    "import random"
   ]
  },
  {
   "cell_type": "code",
   "execution_count": 3,
   "id": "e6373440",
   "metadata": {},
   "outputs": [],
   "source": [
    "d0 = 2\n",
    "d1 = 2\n",
    "d2 = 2\n",
    "d3 = 2\n",
    "d4 = 2\n",
    "d5 = 2\n",
    "\n",
    "\n",
    "# 3D Spectral Densities defined as F,C, \n",
    "F = np.random.rand(d0, d1, d2, d3, d4, d5)\n",
    "C = np.random.rand(d0, d1, d2, d3, d4, d5)\n",
    "R = np.random.rand(d0, d1, d2, d3, d4, d5)"
   ]
  },
  {
   "cell_type": "markdown",
   "id": "eca525c5",
   "metadata": {},
   "source": [
    "for one term: nm = 11, ij = 11, $\\delta_{jm} = \\delta_{11} = 1$ \n",
    "$$\\sum_{a,b,c = 1}^{N} \\{A_{na}^{\\alpha} * A_{ab}^{\\beta} * A_{bc}^{\\alpha} * A_{ci}^{\\beta}\\} [F_{cb,ci,ac}^{\\alpha \\beta} (t) - R_{cb,ab,bi}^{\\alpha \\beta} (t)]$$"
   ]
  },
  {
   "cell_type": "code",
   "execution_count": 20,
   "id": "8ac24d97",
   "metadata": {},
   "outputs": [
    {
     "name": "stdout",
     "output_type": "stream",
     "text": [
      "[[[[ 0.          0.        ]\n",
      "   [ 0.          0.        ]]\n",
      "\n",
      "  [[ 0.          0.        ]\n",
      "   [ 0.          0.        ]]]\n",
      "\n",
      "\n",
      " [[[ 0.          0.        ]\n",
      "   [ 0.          0.        ]]\n",
      "\n",
      "  [[ 0.          0.        ]\n",
      "   [ 0.         -0.00382932]]]]\n",
      "None\n"
     ]
    }
   ],
   "source": [
    "n = 1\n",
    "m = 1\n",
    "i = 1\n",
    "j = 1\n",
    "shapeL = (2, 2, 2, 2)\n",
    "shapeA = (2, 2)\n",
    "L = np.zeros((2, 2, 2, 2))\n",
    "A = np.random.rand(2, 2)\n",
    "# print(A)\n",
    "\n",
    "def delta_R (n, m, i, j, F, C, R, L, A):\n",
    "# Define summation, sum over a, b, and c\n",
    "    for a in range(2):\n",
    "        for b in range(2):\n",
    "            for c in range(2):\n",
    "                L[n,m,i,j] += (A[n,a] * A[a,b] * A[b,c] * A[c,i]\n",
    "                           * (F[c,b,c,i,a,c]-R[c,b,a,b,b,i]) \n",
    "                           + A[n,a] * A[a,b] * A[b,c] * A[c,i] \n",
    "                           * R[i,c,a,b,b,i] - A[n,a] * A[a,b] * A[b,c] * A[c,i]\n",
    "                           * F[b,a,c,i,a,c])\n",
    "    print(L)\n",
    "\n",
    "    for a in range(2):\n",
    "        for b in range(2):\n",
    "            L[n,m,i,j] += ((A[n,a] * A[a,b] * A[b,i] * A[j,m] * (R[b,a,n,a,a,i] - F[b,a,b,i,n,b])) \n",
    "                    + A[n,a] * A[a,b] * A[b,c] * A[c,i] * F[a,n,b,i,n,b]\n",
    "                    - A[n,a] * A[a,b] * A[b,i] * A[j,m] * R[i,b,n,a,a,i]\n",
    "                    + A[n,a] * A[a,b] * A[b, i] * A[j,m] * (C[b,a,j,m,a,i] + R[b,a,j,m,a,i])\n",
    "                    - A[n,a] * A[a,b] * A[b,i] * A[j,m] * (C[i,b,j,m,a,i] + R[i,a,j,b,n,i])\n",
    "                    - A[n,a] * A[a,i] * A[j,b] * A[b,m] * (C[a,n,j,b,n,i] + R[a,n,j,b,n,i])\n",
    "                    + A[n,a] * A[a,i] * A[j,b] * A[b,m] * (C[i,a,j,b,n,i] + R[i,a,j,b,n,i]))\n",
    "#     print(L)\n",
    "#     return(L)\n",
    "# for i in 4\n",
    "L = delta_R(n, m, i, j, F, C, R, L, A)\n",
    "print(L)"
   ]
  }
 ],
 "metadata": {
  "kernelspec": {
   "display_name": "Python 3 (ipykernel)",
   "language": "python",
   "name": "python3"
  },
  "language_info": {
   "codemirror_mode": {
    "name": "ipython",
    "version": 3
   },
   "file_extension": ".py",
   "mimetype": "text/x-python",
   "name": "python",
   "nbconvert_exporter": "python",
   "pygments_lexer": "ipython3",
   "version": "3.11.5"
  }
 },
 "nbformat": 4,
 "nbformat_minor": 5
}
