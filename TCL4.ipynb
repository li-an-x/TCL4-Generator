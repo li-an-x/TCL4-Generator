{
 "cells": [
  {
   "cell_type": "markdown",
   "id": "5e88335f",
   "metadata": {},
   "source": [
    "## TCL4 Generator"
   ]
  },
  {
   "cell_type": "markdown",
   "id": "d1a01488",
   "metadata": {},
   "source": [
    "This notebook aims to implement the simplified TCL4 master equationfor a improved accuracy\n",
    "from the widely adopted TCL2 method, namely, the Bloch-Redfield equation.\n",
    "\n",
    "Our open quantum system is defined by the total system-bath Hamiltonian\n",
    "\n",
    "$$H_T = H_S + H_B + H_I, $$\n",
    "\n",
    "Where $H_S$ is the isolated system Hamiltonian on the N-dimensional system Hilbert Space\n",
    "$$H_S = \\sum_{n+1}^{N} E_n |n\\rangle \\langle n|,$$\n",
    "with nondegenerate energy levels $E_1 < E_2 < ... < E_N.$ $H_B$ is the isolated Hamiltonian of the baths, in the bath Fock space $H_F$. \n",
    "\n",
    "$$H_B = \\sum_{\\alpha, k} \\omega_k^{\\alpha} b_k^{\\alpha^\\dagger}b_k^\\alpha,$$\n",
    "\n",
    "$\\alpha$ is the label for different baths, $k$ is the label for oscillators with frequency $\\omega_k^\\alpha > 0$ in bath $\\alpha$. $b_k^{\\alpha^\\dagger}$ and $b_k^{\\alpha}$ are the creation and annihilation operators with commutation relations expressed in terms of Kronecker deltas below:\n",
    "$$[b_k^\\alpha, b_q^{\\gamma \\dagger}] = \\delta_{k,q}\\delta_{\\alpha, \\gamma}.$$\n",
    "\n",
    "$H_I$ is a Hermitian operator describing the interation between the isolated system and the isolated bath, proportional to a dimensionless coupling constant $\\lambda$. \n",
    "\n",
    "$$H_I = \\sum_{\\alpha = 1}^{N_b} A^\\alpha \\otimes F^\\alpha$$\n",
    "\n",
    "$A^{\\alpha}$s are Hermitian operators on the system Hilbert space, and $F^{\\alpha}$s are operators on corresponding bath Fock space. They are respectively the system coupling operators and the bath coupling operators. Bath coupling operators, $F^{\\alpha}$s, are local oscillator displacements expanded as\n",
    "$$F^{\\alpha} = \\sum_k g_k^\\alpha (b_k^\\alpha + b_k^{\\alpha \\dagger}) $$\n"
   ]
  },
  {
   "cell_type": "code",
   "execution_count": 3,
   "id": "2775e0e3",
   "metadata": {},
   "outputs": [],
   "source": [
    "import numpy as np\n",
    "import torch\n",
    "import random"
   ]
  },
  {
   "cell_type": "code",
   "execution_count": 4,
   "id": "e6373440",
   "metadata": {},
   "outputs": [],
   "source": [
    "d0 = 2\n",
    "d1 = 2\n",
    "d2 = 2\n",
    "d3 = 2\n",
    "d4 = 2\n",
    "d5 = 2\n",
    "\n",
    "\n",
    "# 3D Spectral Densities defined as F,C, \n",
    "F = np.random.rand(d0, d1, d2, d3, d4, d5)\n",
    "C = np.random.rand(d0, d1, d2, d3, d4, d5)\n",
    "R = np.random.rand(d0, d1, d2, d3, d4, d5)"
   ]
  },
  {
   "cell_type": "markdown",
   "id": "f6154c4c",
   "metadata": {},
   "source": [
    "The system and the bath are initialized into a fac- torized state at time t = 0. If the resulting quantum- dynamical map is invertible, then it may be represented by the exact time-convolutionless master equation as follows\n",
    "\n",
    "$$\\frac{d\\rho}{dt} = R^0_\\rho + R^2(t)\\rho + R^4(t)\\rho + ...$$\n",
    "\n",
    "The generators of the dynamics is expressed in terms of tensors $R^{2n}(t)$, each proportional to $\\lambda^{2n}.$\n",
    "\n",
    "$$R_{nm,ij}^{2k}(t) = \\delta R_{nm,ij}^{2k}(t) + \\delta R_{mn,ji}^{2k\\star}(t), k = 0,1,2,...$$"
   ]
  },
  {
   "cell_type": "markdown",
   "id": "eca525c5",
   "metadata": {},
   "source": [
    "for one term: nm = 11, ij = 11, $\\delta_{jm} = \\delta_{11} = 1$ \n",
    "$$\\sum_{a,b,c = 1}^{N} \\{A_{na}^{\\alpha} * A_{ab}^{\\beta} * A_{bc}^{\\alpha} * A_{ci}^{\\beta}\\} [F_{cb,ci,ac}^{\\alpha \\beta} (t) - R_{cb,ab,bi}^{\\alpha \\beta} (t)]$$"
   ]
  },
  {
   "cell_type": "code",
   "execution_count": 26,
   "id": "8ac24d97",
   "metadata": {},
   "outputs": [],
   "source": [
    "n = 1\n",
    "m = 1\n",
    "i = 1\n",
    "j = 1\n",
    "shapeL = (2, 2, 2, 2)\n",
    "shapeA = (2, 2)\n",
    "L = np.zeros((2, 2, 2, 2))\n",
    "A = np.random.rand(2, 2)\n",
    "# print(A[n,a])\n",
    "\n",
    "def delta_R (n, m, i, j, F, C, R, L, A):\n",
    "# Define summation, sum over a, b, and c\n",
    "    for a in range(2):\n",
    "        for b in range(2):\n",
    "            for c in range(2):\n",
    "                if j == m:\n",
    "                    L[n,m,i,j] += (A[n,a] * A[a,b] * A[b,c] * A[c,i]\n",
    "                           * (F[c,b,c,i,a,c]-R[c,b,a,b,b,i]) \n",
    "                           + A[n,a] * A[a,b] * A[b,c] * A[c,i] \n",
    "                           * R[i,c,a,b,b,i] - A[n,a] * A[a,b] * A[b,c] * A[c,i]\n",
    "                           * F[b,a,c,i,a,c])\n",
    "                    print(L)\n",
    "\n",
    "    for a in range(2):\n",
    "        for b in range(2):\n",
    "#             print(\"A[n,a]\", A[n,a])\n",
    "#             print(\"A[a,b]\", A[n,a])\n",
    "#             print(\"R[b,a,n,a,a,i]\", R[b,a,n,a,a,i])\n",
    "#             print(\"F[b,a,b,i,n,b]\", F[b,a,b,i,n,b])\n",
    "            \n",
    "#             print(\"L[n,m,i,j]\",L[n,m,i,j])\n",
    "            L[n,m,i,j] += ((A[n,a] * A[a,b] * A[b,i] * A[j,m] * (R[b,a,n,a,a,i] - F[b,a,b,i,n,b])) \n",
    "                    + A[n,a] * A[a,b] * A[b,c] * A[c,i] * F[a,n,b,i,n,b]\n",
    "                    - A[n,a] * A[a,b] * A[b,i] * A[j,m] * R[i,b,n,a,a,i]\n",
    "                    + A[n,a] * A[a,b] * A[b, i] * A[j,m] * (C[b,a,j,m,a,i] + R[b,a,j,m,a,i])\n",
    "                    - A[n,a] * A[a,b] * A[b,i] * A[j,m] * (C[i,b,j,m,a,i] + R[i,a,j,b,n,i])\n",
    "                    - A[n,a] * A[a,i] * A[j,b] * A[b,m] * (C[a,n,j,b,n,i] + R[a,n,j,b,n,i])\n",
    "                    + A[n,a] * A[a,i] * A[j,b] * A[b,m] * (C[i,a,j,b,n,i] + R[i,a,j,b,n,i]))\n",
    "#             print(L[n,m,i,j])\n",
    "#     print(L)\n",
    "    return(L)\n",
    "# for i in 4"
   ]
  },
  {
   "cell_type": "markdown",
   "id": "d11891c0",
   "metadata": {},
   "source": [
    "Here, one could obtain the TCL4 generator (named L here) by specifying their $n$, $m$, $i$, $j$ values"
   ]
  },
  {
   "cell_type": "code",
   "execution_count": 27,
   "id": "074dc52d",
   "metadata": {},
   "outputs": [
    {
     "name": "stdout",
     "output_type": "stream",
     "text": [
      "[[[[0.         0.        ]\n",
      "   [0.         0.        ]]\n",
      "\n",
      "  [[0.         0.        ]\n",
      "   [0.         0.        ]]]\n",
      "\n",
      "\n",
      " [[[0.         0.        ]\n",
      "   [0.         0.01552321]]\n",
      "\n",
      "  [[0.         0.        ]\n",
      "   [0.         0.        ]]]]\n"
     ]
    }
   ],
   "source": [
    "# matrix element specification, i.e.:\n",
    "n = 1\n",
    "m = 0\n",
    "i = 1\n",
    "j = 1\n",
    "\n",
    "L = delta_R(n, m, i, j, F, C, R, L, A)\n",
    "print(L)"
   ]
  }
 ],
 "metadata": {
  "kernelspec": {
   "display_name": "Python 3 (ipykernel)",
   "language": "python",
   "name": "python3"
  },
  "language_info": {
   "codemirror_mode": {
    "name": "ipython",
    "version": 3
   },
   "file_extension": ".py",
   "mimetype": "text/x-python",
   "name": "python",
   "nbconvert_exporter": "python",
   "pygments_lexer": "ipython3",
   "version": "3.11.5"
  }
 },
 "nbformat": 4,
 "nbformat_minor": 5
}
